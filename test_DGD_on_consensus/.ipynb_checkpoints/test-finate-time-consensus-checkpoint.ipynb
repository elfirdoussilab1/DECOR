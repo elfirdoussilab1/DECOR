{
 "cells": [
  {
   "cell_type": "code",
   "execution_count": 1,
   "metadata": {},
   "outputs": [],
   "source": [
    "%load_ext autoreload\n",
    "%autoreload 2\n",
    "import sys\n",
    "sys.path.append('../')\n",
    "from optimizers import *\n",
    "from topology import * \n",
    "from utils import *\n",
    "from avg_consensus_algorithms import * "
   ]
  },
  {
   "cell_type": "code",
   "execution_count": 2,
   "metadata": {},
   "outputs": [],
   "source": [
    "num_nodes, num_dim = 10, 2\n",
    "np.random.seed(10)\n",
    "A, B = generate_consensus_functions(num_nodes, num_dim)"
   ]
  },
  {
   "cell_type": "code",
   "execution_count": 3,
   "metadata": {},
   "outputs": [
    {
     "data": {
      "text/plain": [
       "array([[ 2.3315865 ,  1.71527897],\n",
       "       [ 0.45459971,  1.99161615],\n",
       "       [ 3.62133597,  2.27991444],\n",
       "       [ 4.26551159,  4.10854853],\n",
       "       [ 5.00429143,  4.82539979],\n",
       "       [ 6.43302619,  7.20303737],\n",
       "       [ 6.03493433,  8.02827408],\n",
       "       [ 8.22863013,  8.44513761],\n",
       "       [ 7.86339779,  9.13513688],\n",
       "       [11.484537  ,  8.92019511]])"
      ]
     },
     "execution_count": 3,
     "metadata": {},
     "output_type": "execute_result"
    }
   ],
   "source": [
    "B"
   ]
  },
  {
   "cell_type": "code",
   "execution_count": 4,
   "metadata": {},
   "outputs": [
    {
     "data": {
      "text/plain": [
       "(10, 2)"
      ]
     },
     "execution_count": 4,
     "metadata": {},
     "output_type": "execute_result"
    }
   ],
   "source": [
    "B.shape"
   ]
  },
  {
   "cell_type": "code",
   "execution_count": 13,
   "metadata": {},
   "outputs": [],
   "source": [
    "B = B"
   ]
  },
  {
   "cell_type": "code",
   "execution_count": 14,
   "metadata": {},
   "outputs": [],
   "source": [
    "W_ring = FixedMixingMatrix(\"ring\", num_nodes)\n",
    "_, errors_simple_cons = standart_algo(B.T, W_ring, num_iter=150)"
   ]
  },
  {
   "cell_type": "code",
   "execution_count": 15,
   "metadata": {
    "scrolled": false
   },
   "outputs": [
    {
     "data": {
      "text/plain": [
       "[<matplotlib.lines.Line2D at 0x7fc223564910>]"
      ]
     },
     "execution_count": 15,
     "metadata": {},
     "output_type": "execute_result"
    },
    {
     "data": {
      "image/png": "[encoded data removed]",
      "text/plain": [
       "<Figure size 432x288 with 1 Axes>"
      ]
     },
     "metadata": {
      "needs_background": "light"
     },
     "output_type": "display_data"
    }
   ],
   "source": [
    "plt.semilogy(errors_simple_cons)"
   ]
  },
  {
   "cell_type": "code",
   "execution_count": 20,
   "metadata": {},
   "outputs": [],
   "source": [
    "W_ring = FixedMixingMatrix(\"ring\", num_nodes)\n",
    "_, errors_09 = finate_time_consensus(B.T, W_ring, power=0.9)\n",
    "_, errors_05 = finate_time_consensus(B.T, W_ring, power=0.5)\n",
    "_, errors_099 = finate_time_consensus(B.T, W_ring, power=0.95, num_iter=150)"
   ]
  },
  {
   "cell_type": "code",
   "execution_count": null,
   "metadata": {},
   "outputs": [
    {
     "data": {
      "text/plain": [
       "<matplotlib.legend.Legend at 0x7fc2239eaad0>"
      ]
     },
     "execution_count": 21,
     "metadata": {},
     "output_type": "execute_result"
    }
   ],
   "source": [
    "plt.semilogy(errors_05, label=\"finate-time consensus, power=0.5\")\n",
    "plt.semilogy(errors_09, label=\"finate-time consensus, power=0.9\")\n",
    "plt.semilogy(errors_099, label=\"finate-time consensus, power=0.95\")\n",
    "plt.semilogy(errors_simple_cons, label=\"standard consensus\")\n",
    "plt.legend()"
   ]
  },
  {
   "cell_type": "code",
   "execution_count": null,
   "metadata": {},
   "outputs": [],
   "source": []
  },
  {
   "cell_type": "code",
   "execution_count": null,
   "metadata": {},
   "outputs": [],
   "source": []
  }
 ],
 "metadata": {
  "kernelspec": {
   "display_name": "Python 3",
   "language": "python",
   "name": "python3"
  },
  "language_info": {
   "codemirror_mode": {
    "name": "ipython",
    "version": 3
   },
   "file_extension": ".py",
   "mimetype": "text/x-python",
   "name": "python",
   "nbconvert_exporter": "python",
   "pygments_lexer": "ipython3",
   "version": "3.7.4"
  }
 },
 "nbformat": 4,
 "nbformat_minor": 2
}
