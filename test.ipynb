{
 "cells": [
  {
   "cell_type": "code",
   "execution_count": 3,
   "metadata": {},
   "outputs": [
    {
     "name": "stdout",
     "output_type": "stream",
     "text": [
      "Proportions for label 1 [0.07901229 0.07310402 0.04586095 0.0646996  0.06090092 0.07895387\n",
      " 0.07161043 0.09519063 0.03779671 0.0695664  0.04477875 0.09589155\n",
      " 0.02582938 0.08564891 0.04901868 0.02213691]\n",
      "2845\n",
      "4325\n",
      "3404\n",
      "3313\n",
      "4007\n",
      "3837\n",
      "4589\n",
      "3449\n",
      "3521\n",
      "4333\n",
      "3880\n",
      "4021\n",
      "3532\n",
      "3630\n",
      "3378\n",
      "3852\n"
     ]
    }
   ],
   "source": [
    "import dataset\n",
    "\n",
    "train_loader_dict, test_loader = dataset.make_train_test_datasets(dataset=\"mnist\", num_labels=10, \n",
    "                                alpha_dirichlet= 10, num_nodes=16, train_batch=64, test_batch=100)\n",
    "\n",
    "def count_elements(dataloader):\n",
    "    count = 0\n",
    "    for X, y in dataloader:\n",
    "        count += len(y)\n",
    "    return count\n",
    "\n",
    "for i in range(len(train_loader_dict)):\n",
    "    print(count_elements(train_loader_dict[i]))"
   ]
  },
  {
   "cell_type": "code",
   "execution_count": 4,
   "metadata": {},
   "outputs": [
    {
     "name": "stdout",
     "output_type": "stream",
     "text": [
      "Proportions for label 1 [1.44881783e-10 2.77119235e-02 1.90713379e-03 5.43181477e-02\n",
      " 1.90199221e-01 2.21833325e-03 6.22535454e-01 6.37615414e-06\n",
      " 1.98624734e-03 1.47353540e-02 9.37357500e-04 1.79410486e-06\n",
      " 8.34425973e-02 1.20608356e-09 2.00611443e-09 5.77519711e-08]\n",
      "9079\n",
      "8729\n",
      "468\n",
      "4820\n",
      "1175\n",
      "2675\n",
      "6997\n",
      "880\n",
      "3112\n",
      "10303\n",
      "1072\n",
      "3437\n",
      "875\n",
      "5801\n",
      "87\n",
      "446\n"
     ]
    }
   ],
   "source": [
    "train_loader_dict, test_loader = dataset.make_train_test_datasets(dataset=\"mnist\", num_labels=10, \n",
    "                                alpha_dirichlet= 0.1, num_nodes=16, train_batch=64, test_batch=100)\n",
    "for i in range(len(train_loader_dict)):\n",
    "    print(count_elements(train_loader_dict[i]))"
   ]
  },
  {
   "cell_type": "code",
   "execution_count": 7,
   "metadata": {},
   "outputs": [
    {
     "name": "stdout",
     "output_type": "stream",
     "text": [
      "Proportions for label 1 [0.06156412 0.06446907 0.06303828 0.06425248 0.0618228  0.0613195\n",
      " 0.06404928 0.06132321 0.06537084 0.05890092 0.06317416 0.06259525\n",
      " 0.06039699 0.06093302 0.06387691 0.06291317]\n",
      "3723\n",
      "3734\n",
      "3774\n",
      "3730\n",
      "3758\n",
      "3760\n",
      "3833\n",
      "3702\n",
      "3766\n",
      "3710\n",
      "3723\n",
      "3731\n",
      "3691\n",
      "3752\n",
      "3758\n",
      "3773\n",
      "59918\n"
     ]
    }
   ],
   "source": [
    "train_loader_dict, test_loader = dataset.make_train_test_datasets(dataset=\"mnist\", num_labels=10, \n",
    "                                alpha_dirichlet= 1000, num_nodes=16, train_batch=64, test_batch=100)\n",
    "s = 0\n",
    "for i in range(len(train_loader_dict)):\n",
    "    c = count_elements(train_loader_dict[i])\n",
    "    print(c)\n",
    "    s += c\n",
    "print(s)"
   ]
  },
  {
   "cell_type": "code",
   "execution_count": null,
   "metadata": {},
   "outputs": [],
   "source": []
  }
 ],
 "metadata": {
  "kernelspec": {
   "display_name": "base",
   "language": "python",
   "name": "python3"
  },
  "language_info": {
   "codemirror_mode": {
    "name": "ipython",
    "version": 3
   },
   "file_extension": ".py",
   "mimetype": "text/x-python",
   "name": "python",
   "nbconvert_exporter": "python",
   "pygments_lexer": "ipython3",
   "version": "3.10.4"
  }
 },
 "nbformat": 4,
 "nbformat_minor": 2
}
