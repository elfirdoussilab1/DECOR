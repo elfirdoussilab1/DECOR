{
 "cells": [
  {
   "cell_type": "code",
   "execution_count": 3,
   "metadata": {},
   "outputs": [
    {
     "name": "stdout",
     "output_type": "stream",
     "text": [
      "Proportions for label 1 [0.07901229 0.07310402 0.04586095 0.0646996  0.06090092 0.07895387\n",
      " 0.07161043 0.09519063 0.03779671 0.0695664  0.04477875 0.09589155\n",
      " 0.02582938 0.08564891 0.04901868 0.02213691]\n",
      "2845\n",
      "4325\n",
      "3404\n",
      "3313\n",
      "4007\n",
      "3837\n",
      "4589\n",
      "3449\n",
      "3521\n",
      "4333\n",
      "3880\n",
      "4021\n",
      "3532\n",
      "3630\n",
      "3378\n",
      "3852\n"
     ]
    }
   ],
   "source": [
    "import dataset\n",
    "\n",
    "train_loader_dict, test_loader = dataset.make_train_test_datasets(dataset=\"mnist\", num_labels=10, \n",
    "                                alpha_dirichlet= 10, num_nodes=16, train_batch=64, test_batch=100)\n",
    "\n",
    "def count_elements(dataloader):\n",
    "    count = 0\n",
    "    for X, y in dataloader:\n",
    "        count += len(y)\n",
    "    return count\n",
    "\n",
    "for i in range(len(train_loader_dict)):\n",
    "    print(count_elements(train_loader_dict[i]))"
   ]
  },
  {
   "cell_type": "code",
   "execution_count": 21,
   "metadata": {},
   "outputs": [
    {
     "name": "stdout",
     "output_type": "stream",
     "text": [
      "Proportions for label 1 [0.13331939 0.03266425 0.02967796 0.05627186 0.02670789 0.06792072\n",
      " 0.04316031 0.09579974 0.05691413 0.05870648 0.09397451 0.04732806\n",
      " 0.04041019 0.07741819 0.1056082  0.03411811]\n"
     ]
    }
   ],
   "source": [
    "import worker, evaluator, torch, misc, dataset\n",
    "\n",
    "num_nodes = 16\n",
    "model = \"libsvm_model\"\n",
    "dataset_name = \"libsvm\"\n",
    "loss = \"BCELoss\"\n",
    "num_nodes = 16\n",
    "num_labels = 2\n",
    "alpha = 10.\n",
    "delta = 1e-5\n",
    "epsilons = [1, 3, 5, 7, 15, 20, 25, 30, 40]\n",
    "min_loss = 0.3236 # found in train_libsvm_bce.ipynb\n",
    "criterion = \"libsvm_topk\"\n",
    "device = \"cuda\"\n",
    "\n",
    "train_loader_dict, test_loader = dataset.make_train_test_datasets(dataset=dataset_name, num_labels=num_labels, \n",
    "                                alpha_dirichlet= alpha, num_nodes=num_nodes, train_batch=64, test_batch=100)\n",
    "# Initialize Workers\n",
    "server = evaluator.Evaluator(train_loader_dict, test_loader, model, loss, num_labels, criterion, num_evaluations= 100, device=device)\n",
    "\n",
    "workers = []\n",
    "for i in range(num_nodes):\n",
    "    data_loader = train_loader_dict[i]\n",
    "    worker_i = worker.Worker(train_data_loader=data_loader, test_data_loader=test_loader, batch_size=64, \n",
    "                model = model, loss = loss, momentum = 0, gradient_clip= 0.1, sigma= 0.1,\n",
    "                num_labels= num_labels, criterion= criterion, num_evaluations= 100, device = \"cuda\", privacy = \"user\")\n",
    "    # Agree on first parameters\n",
    "    worker_i.flat_parameters = server.flat_parameters\n",
    "    worker_i.update_model_parameters()\n",
    "    workers.append(worker_i)\n",
    "\n",
    "# Noise tensor: shape (num_nodes, num_nodes, model_size)\n",
    "V = torch.randn(num_nodes, num_nodes, workers[0].model_size) # distribution N(0, 1)\n",
    "V.mul_(0.01) # rescaling ==> distribution N (0, sigma_cor^2)\n",
    "\n",
    "# Antisymmetry property\n",
    "V1 = misc.to_antisymmetric(V)"
   ]
  },
  {
   "cell_type": "code",
   "execution_count": 13,
   "metadata": {},
   "outputs": [
    {
     "data": {
      "text/plain": [
       "torch.Size([16, 124])"
      ]
     },
     "execution_count": 13,
     "metadata": {},
     "output_type": "execute_result"
    }
   ],
   "source": [
    "(V[1] == -V[:, 1]).sum()\n",
    "V[0].shape"
   ]
  },
  {
   "cell_type": "code",
   "execution_count": 14,
   "metadata": {},
   "outputs": [
    {
     "data": {
      "text/plain": [
       "torch.Size([16, 124])"
      ]
     },
     "execution_count": 14,
     "metadata": {},
     "output_type": "execute_result"
    }
   ],
   "source": [
    "V[:, 0].shape"
   ]
  },
  {
   "cell_type": "code",
   "execution_count": 26,
   "metadata": {},
   "outputs": [],
   "source": [
    "def to_antisymmetric(tensor):\n",
    "    # tensor is of shape (n, n, d)\n",
    "    # Extract the lower triangular part\n",
    "    new_tensor = tensor.clone()\n",
    "    lower_indices= [(i, j) for i in range(1, new_tensor.shape[0]) for j in range(i)]\n",
    "    print(lower_indices)\n",
    "    # Convert the lists of indices to LongTensors\n",
    "    indices_1 = torch.LongTensor(lower_indices)\n",
    "\n",
    "    # Use indexing and assignment to perform t[l_1] = t[l_2]\n",
    "    new_tensor[indices_1[:, 1], indices_1[:, 0]] = - new_tensor[indices_1[:, 0], indices_1[:, 1]]\n",
    "    return new_tensor"
   ]
  },
  {
   "cell_type": "code",
   "execution_count": 27,
   "metadata": {},
   "outputs": [
    {
     "name": "stdout",
     "output_type": "stream",
     "text": [
      "[(1, 0), (2, 0), (2, 1), (3, 0), (3, 1), (3, 2), (4, 0), (4, 1), (4, 2), (4, 3), (5, 0), (5, 1), (5, 2), (5, 3), (5, 4), (6, 0), (6, 1), (6, 2), (6, 3), (6, 4), (6, 5), (7, 0), (7, 1), (7, 2), (7, 3), (7, 4), (7, 5), (7, 6), (8, 0), (8, 1), (8, 2), (8, 3), (8, 4), (8, 5), (8, 6), (8, 7), (9, 0), (9, 1), (9, 2), (9, 3), (9, 4), (9, 5), (9, 6), (9, 7), (9, 8), (10, 0), (10, 1), (10, 2), (10, 3), (10, 4), (10, 5), (10, 6), (10, 7), (10, 8), (10, 9), (11, 0), (11, 1), (11, 2), (11, 3), (11, 4), (11, 5), (11, 6), (11, 7), (11, 8), (11, 9), (11, 10), (12, 0), (12, 1), (12, 2), (12, 3), (12, 4), (12, 5), (12, 6), (12, 7), (12, 8), (12, 9), (12, 10), (12, 11), (13, 0), (13, 1), (13, 2), (13, 3), (13, 4), (13, 5), (13, 6), (13, 7), (13, 8), (13, 9), (13, 10), (13, 11), (13, 12), (14, 0), (14, 1), (14, 2), (14, 3), (14, 4), (14, 5), (14, 6), (14, 7), (14, 8), (14, 9), (14, 10), (14, 11), (14, 12), (14, 13), (15, 0), (15, 1), (15, 2), (15, 3), (15, 4), (15, 5), (15, 6), (15, 7), (15, 8), (15, 9), (15, 10), (15, 11), (15, 12), (15, 13), (15, 14)]\n"
     ]
    }
   ],
   "source": [
    "V = to_antisymmetric(V)"
   ]
  },
  {
   "cell_type": "code",
   "execution_count": 32,
   "metadata": {},
   "outputs": [
    {
     "data": {
      "text/plain": [
       "tensor(True)"
      ]
     },
     "execution_count": 32,
     "metadata": {},
     "output_type": "execute_result"
    }
   ],
   "source": [
    "(V[4, 8] == -V[8, 4]).all()"
   ]
  },
  {
   "cell_type": "code",
   "execution_count": 36,
   "metadata": {},
   "outputs": [
    {
     "name": "stdout",
     "output_type": "stream",
     "text": [
      "Nice\n"
     ]
    }
   ],
   "source": [
    "for i in range(num_nodes):\n",
    "    for j in range(i + 1, num_nodes):\n",
    "        if (V[i, j] != -V[j, i]).sum() != 0:\n",
    "            print(\"NOOO\")\n",
    "print(\"Nice\")"
   ]
  },
  {
   "cell_type": "code",
   "execution_count": 37,
   "metadata": {},
   "outputs": [
    {
     "data": {
      "text/plain": [
       "array([1.e-05, 1.e-04, 1.e-03, 1.e-02, 1.e-01])"
      ]
     },
     "execution_count": 37,
     "metadata": {},
     "output_type": "execute_result"
    }
   ],
   "source": [
    "import numpy as np \n",
    "np.logspace(-5, -1, 5)"
   ]
  },
  {
   "cell_type": "code",
   "execution_count": 7,
   "metadata": {},
   "outputs": [
    {
     "name": "stdout",
     "output_type": "stream",
     "text": [
      "Proportions for label 1 [0.06156412 0.06446907 0.06303828 0.06425248 0.0618228  0.0613195\n",
      " 0.06404928 0.06132321 0.06537084 0.05890092 0.06317416 0.06259525\n",
      " 0.06039699 0.06093302 0.06387691 0.06291317]\n",
      "3723\n",
      "3734\n",
      "3774\n",
      "3730\n",
      "3758\n",
      "3760\n",
      "3833\n",
      "3702\n",
      "3766\n",
      "3710\n",
      "3723\n",
      "3731\n",
      "3691\n",
      "3752\n",
      "3758\n",
      "3773\n",
      "59918\n"
     ]
    }
   ],
   "source": [
    "train_loader_dict, test_loader = dataset.make_train_test_datasets(dataset=\"mnist\", num_labels=10, \n",
    "                                alpha_dirichlet= 1000, num_nodes=16, train_batch=64, test_batch=100)\n",
    "s = 0\n",
    "for i in range(len(train_loader_dict)):\n",
    "    c = count_elements(train_loader_dict[i])\n",
    "    print(c)\n",
    "    s += c\n",
    "print(s)"
   ]
  },
  {
   "cell_type": "code",
   "execution_count": null,
   "metadata": {},
   "outputs": [],
   "source": [
    "from utils import topology, dp_account\n",
    "import numpy as np\n",
    "\n",
    "W = topology.FixedMixingMatrix(topology_name= \"grid\", n_nodes= 16)(0)\n",
    "adjacency_matrix = np.array(W != 0, dtype=float)\n",
    "adjacency_matrix = adjacency_matrix - np.diag(np.diag(adjacency_matrix))\n",
    "degree_matrix = np.diag(adjacency_matrix @ np.ones_like(adjacency_matrix[0]))\n",
    "\n",
    "# eps_iter \n",
    "eps_iter = dp_account.reverse_eps(target_eps, num_iter, delta, subsample = 1.)"
   ]
  }
 ],
 "metadata": {
  "kernelspec": {
   "display_name": "base",
   "language": "python",
   "name": "python3"
  },
  "language_info": {
   "codemirror_mode": {
    "name": "ipython",
    "version": 3
   },
   "file_extension": ".py",
   "mimetype": "text/x-python",
   "name": "python",
   "nbconvert_exporter": "python",
   "pygments_lexer": "ipython3",
   "version": "3.10.4"
  }
 },
 "nbformat": 4,
 "nbformat_minor": 2
}
