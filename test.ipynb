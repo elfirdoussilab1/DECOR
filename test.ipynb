{
 "cells": [
  {
   "cell_type": "markdown",
   "metadata": {},
   "source": [
    "## We use this file to test some functions and for debugging"
   ]
  },
  {
   "cell_type": "code",
   "execution_count": 2,
   "metadata": {},
   "outputs": [],
   "source": [
    "from models import *\n",
    "import torch\n",
    "import torchvision\n",
    "import torchvision.transforms as T \n",
    "from worker import *\n",
    "import numpy as np"
   ]
  },
  {
   "cell_type": "code",
   "execution_count": 5,
   "metadata": {},
   "outputs": [
    {
     "data": {
      "text/plain": [
       "0.0018173897078857042"
      ]
     },
     "execution_count": 5,
     "metadata": {},
     "output_type": "execute_result"
    }
   ],
   "source": [
    "num_iter = 1000\n",
    "delta = 1e-4\n",
    "eps = 10\n",
    "def reverse_eps(eps, num_iter, delta):\n",
    "    return (np.sqrt(np.log(1/delta) + eps) - np.sqrt(np.log(1/delta)))**2 / num_iter\n",
    "reverse_eps(eps, num_iter, delta)"
   ]
  },
  {
   "cell_type": "code",
   "execution_count": 2,
   "metadata": {},
   "outputs": [
    {
     "data": {
      "text/plain": [
       "tensor([2, 4, 6])"
      ]
     },
     "execution_count": 2,
     "metadata": {},
     "output_type": "execute_result"
    }
   ],
   "source": [
    "l = torch.tensor([[1, 2, 3], [1, 2, 3]])\n",
    "torch.sum(l, dim=0)"
   ]
  },
  {
   "cell_type": "code",
   "execution_count": 3,
   "metadata": {},
   "outputs": [
    {
     "data": {
      "text/plain": [
       "tensor([0., 0., 0., 0., 0., 0., 0., 0., 0., 0.])"
      ]
     },
     "execution_count": 3,
     "metadata": {},
     "output_type": "execute_result"
    }
   ],
   "source": [
    "torch.zeros(10)"
   ]
  },
  {
   "cell_type": "code",
   "execution_count": 3,
   "metadata": {},
   "outputs": [],
   "source": [
    "train_data = torchvision.datasets.MNIST(train = True, root = './data', download = True, \n",
    "                                        transform = T.ToTensor())\n",
    "train_loader = torch.utils.data.DataLoader(dataset = train_data, batch_size = 10)"
   ]
  },
  {
   "cell_type": "code",
   "execution_count": 4,
   "metadata": {},
   "outputs": [
    {
     "name": "stdout",
     "output_type": "stream",
     "text": [
      "[Parameter containing:\n",
      "tensor([[-0.0056, -0.0033,  0.0032,  ...,  0.0325,  0.0225,  0.0186],\n",
      "        [ 0.0262, -0.0266,  0.0073,  ..., -0.0088, -0.0100,  0.0067],\n",
      "        [ 0.0310,  0.0324, -0.0077,  ..., -0.0289, -0.0163, -0.0028],\n",
      "        ...,\n",
      "        [ 0.0041,  0.0141,  0.0337,  ...,  0.0208, -0.0117, -0.0041],\n",
      "        [ 0.0026, -0.0076,  0.0015,  ...,  0.0149,  0.0044, -0.0072],\n",
      "        [ 0.0218, -0.0024, -0.0038,  ..., -0.0102,  0.0336,  0.0345]],\n",
      "       requires_grad=True), Parameter containing:\n",
      "tensor([ 0.0089, -0.0181,  0.0355, -0.0119,  0.0004, -0.0129,  0.0140, -0.0035,\n",
      "        -0.0273,  0.0204, -0.0161,  0.0278, -0.0082, -0.0151, -0.0182, -0.0230,\n",
      "        -0.0262,  0.0066,  0.0030, -0.0257, -0.0097, -0.0276, -0.0160,  0.0002,\n",
      "        -0.0099, -0.0303,  0.0059,  0.0048,  0.0206, -0.0307,  0.0077,  0.0283,\n",
      "         0.0042, -0.0258, -0.0164, -0.0302, -0.0166,  0.0166,  0.0220,  0.0264,\n",
      "        -0.0149,  0.0177, -0.0269,  0.0318,  0.0206,  0.0294,  0.0068, -0.0268,\n",
      "        -0.0148,  0.0185, -0.0337,  0.0324,  0.0241,  0.0112, -0.0140,  0.0234,\n",
      "        -0.0336,  0.0081,  0.0209, -0.0314,  0.0183, -0.0330, -0.0356, -0.0065,\n",
      "        -0.0115, -0.0160, -0.0236,  0.0099,  0.0296,  0.0065,  0.0099, -0.0076,\n",
      "        -0.0023,  0.0312,  0.0110,  0.0270,  0.0067,  0.0015, -0.0111,  0.0301,\n",
      "        -0.0093, -0.0091,  0.0165, -0.0100,  0.0038, -0.0155,  0.0029, -0.0312,\n",
      "        -0.0004,  0.0009, -0.0153,  0.0108,  0.0272,  0.0183, -0.0117,  0.0199,\n",
      "        -0.0205,  0.0018, -0.0250,  0.0047, -0.0318, -0.0062, -0.0344, -0.0132,\n",
      "         0.0163,  0.0137, -0.0277,  0.0036,  0.0289,  0.0169,  0.0196, -0.0195,\n",
      "         0.0218,  0.0212, -0.0205, -0.0171,  0.0187,  0.0002, -0.0248, -0.0143,\n",
      "        -0.0009, -0.0026, -0.0152,  0.0211, -0.0175,  0.0327,  0.0075, -0.0134],\n",
      "       requires_grad=True), Parameter containing:\n",
      "tensor([[-0.0578,  0.0328,  0.0375,  ..., -0.0245, -0.0165,  0.0879],\n",
      "        [-0.0579, -0.0698,  0.0579,  ...,  0.0181,  0.0202, -0.0079],\n",
      "        [-0.0726, -0.0304,  0.0488,  ...,  0.0579,  0.0855, -0.0479],\n",
      "        ...,\n",
      "        [ 0.0485, -0.0833, -0.0117,  ...,  0.0714,  0.0638, -0.0771],\n",
      "        [ 0.0709, -0.0791, -0.0366,  ...,  0.0611, -0.0706, -0.0180],\n",
      "        [ 0.0454,  0.0601,  0.0519,  ..., -0.0681, -0.0751,  0.0721]],\n",
      "       requires_grad=True), Parameter containing:\n",
      "tensor([ 0.0752,  0.0842, -0.0091, -0.0010, -0.0010, -0.0301,  0.0405, -0.0777,\n",
      "        -0.0816,  0.0616], requires_grad=True)]\n",
      "4\n",
      "--------\n",
      "param.grad tensor([[0., 0., 0.,  ..., 0., 0., 0.],\n",
      "        [0., 0., 0.,  ..., 0., 0., 0.],\n",
      "        [0., 0., 0.,  ..., 0., 0., 0.],\n",
      "        ...,\n",
      "        [0., 0., 0.,  ..., 0., 0., 0.],\n",
      "        [0., 0., 0.,  ..., 0., 0., 0.],\n",
      "        [0., 0., 0.,  ..., 0., 0., 0.]]) of shape torch.Size([128, 784])\n",
      "param.data : tensor([[-0.0056, -0.0033,  0.0032,  ...,  0.0325,  0.0225,  0.0186],\n",
      "        [ 0.0262, -0.0266,  0.0073,  ..., -0.0088, -0.0100,  0.0067],\n",
      "        [ 0.0310,  0.0324, -0.0077,  ..., -0.0289, -0.0163, -0.0028],\n",
      "        ...,\n",
      "        [ 0.0041,  0.0141,  0.0337,  ...,  0.0208, -0.0117, -0.0041],\n",
      "        [ 0.0026, -0.0076,  0.0015,  ...,  0.0149,  0.0044, -0.0072],\n",
      "        [ 0.0218, -0.0024, -0.0038,  ..., -0.0102,  0.0336,  0.0345]]) of shape torch.Size([128, 784])\n"
     ]
    }
   ],
   "source": [
    "# Update parameters\n",
    "lr = 0.1\n",
    "#model_size = len(tools.flatten(model.parameters()))\n",
    "#print(model_size)\n",
    "w = Worker(train_loader, train_loader, batch_size=10, model=\"simple_mnist_model\", loss='CrossEntropyLoss', momentum=0.0, c_clip= 1, sigma_cdp= 0.,\n",
    "                 num_labels= 10, criterion= \"topk\", num_evaluations= 100, device= \"cpu\", seed= 1)\n",
    "for batch in train_loader:\n",
    "    X, y = batch\n",
    "    break\n",
    "#t = w.compute_gradient(X, y)\n",
    "w.compute_gradient(X, y)"
   ]
  },
  {
   "cell_type": "code",
   "execution_count": 11,
   "metadata": {},
   "outputs": [
    {
     "name": "stdout",
     "output_type": "stream",
     "text": [
      "101770\n",
      "tensor([ 0.0212, -0.0016, -0.0099,  ...,  0.0467, -0.0344, -0.0235],\n",
      "       grad_fn=<CatBackward0>)\n",
      "tensor([-0.0788, -0.1016, -0.1099,  ..., -0.0533, -0.1344, -0.1235],\n",
      "       grad_fn=<CatBackward0>)\n"
     ]
    }
   ],
   "source": [
    "\n",
    "# Update parameters\n",
    "lr = 0.1\n",
    "model_size = len(tools.flatten(model.parameters()))\n",
    "print(model_size)\n",
    "momentum_gradient = torch.ones(model_size)\n",
    "parameters = tools.flatten(model.parameters())\n",
    "print(parameters)\n",
    "for param, grad in zip(model.parameters(), momentum_gradient):\n",
    "    param.data -=  lr * grad\n",
    "\n",
    "print(tools.flatten(model.parameters()))"
   ]
  },
  {
   "cell_type": "code",
   "execution_count": 20,
   "metadata": {},
   "outputs": [
    {
     "data": {
      "text/plain": [
       "tensor([ 6,  8, 10])"
      ]
     },
     "execution_count": 20,
     "metadata": {},
     "output_type": "execute_result"
    }
   ],
   "source": [
    "data = torch.tensor([[1, 2, 4], [3, 4, 5]])\n",
    "weights = torch.tensor([0, 2])\n",
    "res = torch.sum(weights.view(-1, 1).mul(data), dim = 0)\n",
    "res"
   ]
  },
  {
   "cell_type": "code",
   "execution_count": 22,
   "metadata": {},
   "outputs": [
    {
     "name": "stdout",
     "output_type": "stream",
     "text": [
      "Memory usage of the t: 26053120 bytes\n"
     ]
    }
   ],
   "source": [
    "t = torch.zeros((64, 101770))\n",
    "\n",
    "# Get the memory usage in bytes\n",
    "t_memory_bytes = t.element_size() * t.nelement()\n",
    "\n",
    "print(f\"Memory usage of the t: {t_memory_bytes} bytes\")\n"
   ]
  },
  {
   "cell_type": "markdown",
   "metadata": {},
   "source": [
    "## Testing if we get the desired user-privacy when we use $\\sigma_{cdp} = \\frac{\\sigma_{ldp}}{\\sqrt(n)}$"
   ]
  },
  {
   "cell_type": "code",
   "execution_count": 3,
   "metadata": {},
   "outputs": [
    {
     "name": "stdout",
     "output_type": "stream",
     "text": [
      "target eps iter  0.0010335701523836135\n",
      "Centr  0.06614848975255126\n",
      "Ring LDP  0.0010335701523836135\n"
     ]
    }
   ],
   "source": [
    "from utils import dp_account, topology\n",
    "num_iter = 1500\n",
    "target_eps = 10\n",
    "delta = 1e-5\n",
    "clip = 1\n",
    "num_nodes = 64\n",
    "target_eps_iter = dp_account.reverse_eps(target_eps, num_iter, delta)\n",
    "print(\"target eps iter \", target_eps_iter)\n",
    "sigma_ldp = clip * np.sqrt(2/target_eps_iter)\n",
    "sigma_cdp = sigma_ldp/np.sqrt(num_nodes)\n",
    "\n",
    "# degree matrix and adjacency\n",
    "W_centr = topology.FixedMixingMatrix(\"centralized\", num_nodes)\n",
    "W_ring = topology.FixedMixingMatrix(\"ring\", num_nodes)\n",
    "\n",
    "# Privacy for centr\n",
    "adjacency_matrix_1 = np.array(W_centr(0) != 0, dtype=float)\n",
    "adjacency_matrix_1 = adjacency_matrix_1 - np.diag(np.diag(adjacency_matrix_1))\n",
    "degree_matrix_1 = np.diag(adjacency_matrix_1 @ np.ones_like(adjacency_matrix_1[0]))\n",
    "\n",
    "# Privacy for ring\n",
    "adjacency_matrix_2 = np.array(W_ring(0) != 0, dtype=float)\n",
    "adjacency_matrix_2 = adjacency_matrix_2 - np.diag(np.diag(adjacency_matrix_2))\n",
    "degree_matrix_2 = np.diag(adjacency_matrix_2 @ np.ones_like(adjacency_matrix_2[0]))\n",
    "print(\"Centr \", dp_account.rdp_account(sigmacdp= sigma_cdp, sigmacor = 0, clip = clip, degree_matrix= degree_matrix_1, adjacency_matrix = adjacency_matrix_1))\n",
    "print(\"Ring LDP \", dp_account.rdp_account(sigmacdp= sigma_ldp, sigmacor = 0, clip = clip, degree_matrix= degree_matrix_2, adjacency_matrix = adjacency_matrix_2))\n",
    "\n"
   ]
  },
  {
   "cell_type": "code",
   "execution_count": 4,
   "metadata": {},
   "outputs": [
    {
     "data": {
      "text/plain": [
       "array([1. , 1.5, 2. , 2.5, 3. , 3.5, 4. ])"
      ]
     },
     "execution_count": 4,
     "metadata": {},
     "output_type": "execute_result"
    }
   ],
   "source": [
    "np.linspace(1, 4, 7)"
   ]
  },
  {
   "cell_type": "code",
   "execution_count": 7,
   "metadata": {},
   "outputs": [
    {
     "data": {
      "text/plain": [
       "[tensor([1., 1., 1.]), tensor([0., 0., 0.])]"
      ]
     },
     "execution_count": 7,
     "metadata": {},
     "output_type": "execute_result"
    }
   ],
   "source": [
    "t1 = torch.ones(3)\n",
    "t2 = torch.zeros(3)\n",
    "l = []\n",
    "l.append(t1)\n",
    "l.append(t2)\n",
    "l"
   ]
  },
  {
   "cell_type": "code",
   "execution_count": 12,
   "metadata": {},
   "outputs": [
    {
     "data": {
      "text/plain": [
       "torch.Size([2, 3])"
      ]
     },
     "execution_count": 12,
     "metadata": {},
     "output_type": "execute_result"
    }
   ],
   "source": [
    "t = torch.stack(l)\n",
    "t.shape"
   ]
  },
  {
   "cell_type": "code",
   "execution_count": 1,
   "metadata": {},
   "outputs": [
    {
     "data": {
      "image/png": "[encoded data removed]",
      "text/plain": [
       "<Figure size 762x508 with 1 Axes>"
      ]
     },
     "metadata": {},
     "output_type": "display_data"
    }
   ],
   "source": [
    "import matplotlib.pyplot as plt\n",
    "import numpy as np\n",
    "\n",
    "plt.style.use('ggplot')\n",
    "fig, ax = plt.subplots()\n",
    "fig.set_size_inches(3 * 2.54, 2 * 2.54)\n",
    "ax.plot(np.arange(1, 6), np.arange(2, 7), color = 'tab:orange', linestyle= (0, (5, 10)))\n",
    "ax.plot(np.arange(1, 6), np.linspace(2, 5, 5), color = 'tab:purple', linestyle= '-.')\n",
    "ax.plot(np.arange(1, 6), np.linspace(2, 8, 5), color = 'tab:green', linestyle= 'solid')\n",
    "\n",
    "ax.grid(True)\n",
    "\n"
   ]
  },
  {
   "cell_type": "code",
   "execution_count": 2,
   "metadata": {},
   "outputs": [
    {
     "data": {
      "image/png": "[encoded data removed]",
      "text/plain": [
       "<Figure size 640x480 with 1 Axes>"
      ]
     },
     "metadata": {},
     "output_type": "display_data"
    }
   ],
   "source": [
    "import matplotlib.pyplot as plt\n",
    "\n",
    "# Create a sample plot\n",
    "plt.plot([1, 2, 3], label='Line A')\n",
    "plt.plot([3, 2, 1], label='Line B')\n",
    "\n",
    "# Add a legend and specify its location outside the axes\n",
    "plt.legend(loc='upper left', bbox_to_anchor=(1, 1))\n",
    "\n",
    "# Show the plot\n",
    "plt.show()\n"
   ]
  },
  {
   "cell_type": "code",
   "execution_count": 10,
   "metadata": {},
   "outputs": [
    {
     "data": {
      "text/plain": [
       "array([1.00000000e-05, 2.78255940e-05, 7.74263683e-05, 2.15443469e-04,\n",
       "       5.99484250e-04, 1.66810054e-03, 4.64158883e-03, 1.29154967e-02,\n",
       "       3.59381366e-02, 1.00000000e-01])"
      ]
     },
     "execution_count": 10,
     "metadata": {},
     "output_type": "execute_result"
    }
   ],
   "source": [
    "np.logspace(-5, -1, 10)"
   ]
  },
  {
   "cell_type": "code",
   "execution_count": null,
   "metadata": {},
   "outputs": [],
   "source": []
  }
 ],
 "metadata": {
  "kernelspec": {
   "display_name": "Python 3",
   "language": "python",
   "name": "python3"
  },
  "language_info": {
   "codemirror_mode": {
    "name": "ipython",
    "version": 3
   },
   "file_extension": ".py",
   "mimetype": "text/x-python",
   "name": "python",
   "nbconvert_exporter": "python",
   "pygments_lexer": "ipython3",
   "version": "3.10.12"
  }
 },
 "nbformat": 4,
 "nbformat_minor": 2
}
