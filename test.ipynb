{
 "cells": [
  {
   "cell_type": "code",
   "execution_count": 1,
   "metadata": {},
   "outputs": [
    {
     "name": "stderr",
     "output_type": "stream",
     "text": [
      "5.6%"
     ]
    },
    {
     "name": "stdout",
     "output_type": "stream",
     "text": [
      "Downloading http://yann.lecun.com/exdb/mnist/train-images-idx3-ubyte.gz\n",
      "Downloading http://yann.lecun.com/exdb/mnist/train-images-idx3-ubyte.gz to /root/CD-SGD/datasets/cache/MNIST/raw/train-images-idx3-ubyte.gz\n"
     ]
    },
    {
     "name": "stderr",
     "output_type": "stream",
     "text": [
      "100.0%\n"
     ]
    },
    {
     "name": "stdout",
     "output_type": "stream",
     "text": [
      "Extracting /root/CD-SGD/datasets/cache/MNIST/raw/train-images-idx3-ubyte.gz to /root/CD-SGD/datasets/cache/MNIST/raw\n"
     ]
    },
    {
     "name": "stderr",
     "output_type": "stream",
     "text": [
      "100.0%"
     ]
    },
    {
     "name": "stdout",
     "output_type": "stream",
     "text": [
      "\n",
      "Downloading http://yann.lecun.com/exdb/mnist/train-labels-idx1-ubyte.gz\n",
      "Downloading http://yann.lecun.com/exdb/mnist/train-labels-idx1-ubyte.gz to /root/CD-SGD/datasets/cache/MNIST/raw/train-labels-idx1-ubyte.gz\n",
      "Extracting /root/CD-SGD/datasets/cache/MNIST/raw/train-labels-idx1-ubyte.gz to /root/CD-SGD/datasets/cache/MNIST/raw\n",
      "\n",
      "Downloading http://yann.lecun.com/exdb/mnist/t10k-images-idx3-ubyte.gz\n"
     ]
    },
    {
     "name": "stderr",
     "output_type": "stream",
     "text": [
      "\n"
     ]
    },
    {
     "name": "stdout",
     "output_type": "stream",
     "text": [
      "Downloading http://yann.lecun.com/exdb/mnist/t10k-images-idx3-ubyte.gz to /root/CD-SGD/datasets/cache/MNIST/raw/t10k-images-idx3-ubyte.gz\n"
     ]
    },
    {
     "name": "stderr",
     "output_type": "stream",
     "text": [
      "100.0%\n"
     ]
    },
    {
     "name": "stdout",
     "output_type": "stream",
     "text": [
      "Extracting /root/CD-SGD/datasets/cache/MNIST/raw/t10k-images-idx3-ubyte.gz to /root/CD-SGD/datasets/cache/MNIST/raw\n",
      "\n",
      "Downloading http://yann.lecun.com/exdb/mnist/t10k-labels-idx1-ubyte.gz\n",
      "Downloading http://yann.lecun.com/exdb/mnist/t10k-labels-idx1-ubyte.gz to /root/CD-SGD/datasets/cache/MNIST/raw/t10k-labels-idx1-ubyte.gz\n"
     ]
    },
    {
     "name": "stderr",
     "output_type": "stream",
     "text": [
      "100.0%\n"
     ]
    },
    {
     "name": "stdout",
     "output_type": "stream",
     "text": [
      "Extracting /root/CD-SGD/datasets/cache/MNIST/raw/t10k-labels-idx1-ubyte.gz to /root/CD-SGD/datasets/cache/MNIST/raw\n",
      "\n",
      "Proportions for label 1 [0.0674734  0.11258481 0.06823908 0.04459326 0.10154952 0.0493773\n",
      " 0.05929911 0.0616702  0.05761078 0.05428442 0.03679206 0.04187446\n",
      " 0.05939473 0.05857774 0.06872021 0.05795893]\n",
      "3600\n",
      "4015\n",
      "3927\n",
      "3409\n",
      "3854\n",
      "3988\n",
      "3414\n",
      "3658\n",
      "2993\n",
      "3997\n",
      "3100\n",
      "3591\n",
      "3475\n",
      "4510\n",
      "4460\n",
      "3930\n"
     ]
    }
   ],
   "source": [
    "import dataset\n",
    "\n",
    "train_loader_dict, test_loader = dataset.make_train_test_datasets(dataset=\"mnist\", num_labels=10, \n",
    "                                alpha_dirichlet= 10, num_nodes=16, train_batch=64, test_batch=100)\n",
    "\n",
    "def count_elements(dataloader):\n",
    "    count = 0\n",
    "    for X, y in dataloader:\n",
    "        count += len(y)\n",
    "    return count\n",
    "\n",
    "for i in range(len(train_loader_dict)):\n",
    "    print(count_elements(train_loader_dict[i]))"
   ]
  },
  {
   "cell_type": "code",
   "execution_count": 4,
   "metadata": {},
   "outputs": [
    {
     "name": "stdout",
     "output_type": "stream",
     "text": [
      "Proportions for label 1 [1.44881783e-10 2.77119235e-02 1.90713379e-03 5.43181477e-02\n",
      " 1.90199221e-01 2.21833325e-03 6.22535454e-01 6.37615414e-06\n",
      " 1.98624734e-03 1.47353540e-02 9.37357500e-04 1.79410486e-06\n",
      " 8.34425973e-02 1.20608356e-09 2.00611443e-09 5.77519711e-08]\n",
      "9079\n",
      "8729\n",
      "468\n",
      "4820\n",
      "1175\n",
      "2675\n",
      "6997\n",
      "880\n",
      "3112\n",
      "10303\n",
      "1072\n",
      "3437\n",
      "875\n",
      "5801\n",
      "87\n",
      "446\n"
     ]
    }
   ],
   "source": [
    "train_loader_dict, test_loader = dataset.make_train_test_datasets(dataset=\"mnist\", num_labels=10, \n",
    "                                alpha_dirichlet= 0.1, num_nodes=16, train_batch=64, test_batch=100)\n",
    "for i in range(len(train_loader_dict)):\n",
    "    print(count_elements(train_loader_dict[i]))"
   ]
  },
  {
   "cell_type": "code",
   "execution_count": 7,
   "metadata": {},
   "outputs": [
    {
     "name": "stdout",
     "output_type": "stream",
     "text": [
      "Proportions for label 1 [0.06156412 0.06446907 0.06303828 0.06425248 0.0618228  0.0613195\n",
      " 0.06404928 0.06132321 0.06537084 0.05890092 0.06317416 0.06259525\n",
      " 0.06039699 0.06093302 0.06387691 0.06291317]\n",
      "3723\n",
      "3734\n",
      "3774\n",
      "3730\n",
      "3758\n",
      "3760\n",
      "3833\n",
      "3702\n",
      "3766\n",
      "3710\n",
      "3723\n",
      "3731\n",
      "3691\n",
      "3752\n",
      "3758\n",
      "3773\n",
      "59918\n"
     ]
    }
   ],
   "source": [
    "train_loader_dict, test_loader = dataset.make_train_test_datasets(dataset=\"mnist\", num_labels=10, \n",
    "                                alpha_dirichlet= 1000, num_nodes=16, train_batch=64, test_batch=100)\n",
    "s = 0\n",
    "for i in range(len(train_loader_dict)):\n",
    "    c = count_elements(train_loader_dict[i])\n",
    "    print(c)\n",
    "    s += c\n",
    "print(s)"
   ]
  },
  {
   "cell_type": "code",
   "execution_count": 6,
   "metadata": {},
   "outputs": [
    {
     "name": "stdout",
     "output_type": "stream",
     "text": [
      "tensor([[ 0.0000,  0.0000,  0.0000],\n",
      "        [ 0.2553, -0.0380, -0.2279],\n",
      "        [ 0.0000, -0.0000,  0.0000],\n",
      "        [-0.2513, -0.0448,  0.1771],\n",
      "        [ 0.2182, -0.2342,  0.2579],\n",
      "        [-0.0000, -0.0000, -0.0000],\n",
      "        [ 0.0000,  0.0000, -0.0000],\n",
      "        [ 0.0000, -0.0000, -0.0000],\n",
      "        [ 0.0000, -0.0000,  0.0000],\n",
      "        [-0.0000,  0.0000, -0.0000],\n",
      "        [-0.0000, -0.0000,  0.0000],\n",
      "        [ 0.0000, -0.0000,  0.0000],\n",
      "        [-0.0236, -0.0547,  0.1812],\n",
      "        [-0.0000, -0.0000,  0.0000],\n",
      "        [ 0.0000,  0.0000, -0.0000],\n",
      "        [-0.0000, -0.0000, -0.0000]])\n"
     ]
    }
   ],
   "source": [
    "from utils import topology, dp_account\n",
    "import numpy as np\n",
    "import misc, torch\n",
    "\n",
    "num_nodes = 16\n",
    "sigma_cor = 1\n",
    "\n",
    "W = topology.FixedMixingMatrix(topology_name= \"grid\", n_nodes= 16)(0)\n",
    "adjacency_matrix = np.array(W != 0, dtype=float)\n",
    "adjacency_matrix = adjacency_matrix - np.diag(np.diag(adjacency_matrix))\n",
    "degree_matrix = np.diag(adjacency_matrix @ np.ones_like(adjacency_matrix[0]))\n",
    "\n",
    "W = torch.tensor(W, dtype= torch.float)\n",
    "# Noise tensor: shape (num_nodes, num_nodes, model_size)\n",
    "V = torch.randn(num_nodes, num_nodes, 3) # distribution N(0, 1)\n",
    "V.mul_(sigma_cor) # rescaling ==> distribution N (0, sigma_cor^2)\n",
    "\n",
    "# Antisymmetry property and neighbours\n",
    "V = misc.to_antisymmetric(V, W)\n",
    "print(V[0])\n"
   ]
  },
  {
   "cell_type": "code",
   "execution_count": 12,
   "metadata": {},
   "outputs": [
    {
     "name": "stdout",
     "output_type": "stream",
     "text": [
      "Cool\n"
     ]
    }
   ],
   "source": [
    "# Test\n",
    "for i in range(num_nodes):\n",
    "    # diag part\n",
    "    if not torch.all(V[i, i].eq(0)):\n",
    "        print(\"We have a non null part of diagonal\")\n",
    "    for j in range(num_nodes):\n",
    "        # antisymmetric part \n",
    "        if not torch.equal(V[i, j], - V[j, i]):\n",
    "            print(\"not antisymmetric\")\n",
    "        # neighbors part\n",
    "        if W[i, j] == 0:\n",
    "            if not torch.all(V[i, j].eq(0)):\n",
    "                print(\"neighbours part not verified\")\n",
    "print(\"Cool\")"
   ]
  },
  {
   "cell_type": "code",
   "execution_count": null,
   "metadata": {},
   "outputs": [],
   "source": []
  }
 ],
 "metadata": {
  "kernelspec": {
   "display_name": "base",
   "language": "python",
   "name": "python3"
  },
  "language_info": {
   "codemirror_mode": {
    "name": "ipython",
    "version": 3
   },
   "file_extension": ".py",
   "mimetype": "text/x-python",
   "name": "python",
   "nbconvert_exporter": "python",
   "pygments_lexer": "ipython3",
   "version": "3.10.12"
  }
 },
 "nbformat": 4,
 "nbformat_minor": 2
}
